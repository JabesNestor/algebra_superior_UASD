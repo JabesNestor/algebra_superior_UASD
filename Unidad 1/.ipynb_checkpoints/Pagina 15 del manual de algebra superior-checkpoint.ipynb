{
 "cells": [
  {
   "cell_type": "markdown",
   "id": "5c5d112b",
   "metadata": {},
   "source": [
    "# ÁLGEBRA SUPERIOR\n",
    "##                                         Practica No.1"
   ]
  },
  {
   "cell_type": "markdown",
   "id": "d40b67d7",
   "metadata": {},
   "source": [
    "# Tema 1 a)\n",
    "\n",
    "\n",
    "# "
   ]
  },
  {
   "cell_type": "markdown",
   "id": "f4371c2b",
   "metadata": {},
   "source": [
    "$$\n",
    "A = \\begin{bmatrix} 6, & 8, & 9 \\end{bmatrix}         \\qquad    \\qquad       B = \\begin{bmatrix} -5, & 7, & 1 \\end{bmatrix}\n",
    "$$ \n",
    "\n",
    "$$\n",
    "C = \\begin{bmatrix} -2, & 3, & -4, & 6 \\end{bmatrix}   \\qquad    \\qquad   D = \\begin{bmatrix} -9, & 4, & -5, 0 \\end{bmatrix}\n",
    "$$"
   ]
  },
  {
   "cell_type": "markdown",
   "id": "de46589b",
   "metadata": {},
   "source": [
    "## a-1) Identifique el espacio al que pertenece cada vector\n",
    "### Las respuesta"
   ]
  },
  {
   "cell_type": "markdown",
   "id": "df9e4bd6",
   "metadata": {},
   "source": [
    "$$\n",
    "A \\in \\mathbb{R}^3  \\qquad \\qquad  B \\in \\mathbb{R}^3  \\qquad  C \\in \\mathbb{R}^4  \\qquad D \\in \\mathbb{R}^4\n",
    "$$"
   ]
  },
  {
   "cell_type": "markdown",
   "id": "79b841fb",
   "metadata": {},
   "source": [
    "#### Recuerden que un espacio vectorial es:\n",
    "Un espacio vectorial es una estructura algebraica fundamental en álgebra lineal. \n",
    "Se compone de un conjunto de elementos llamados vectores, que pueden sumarse entre sí y multiplicarse por números llamados escalares"
   ]
  },
  {
   "cell_type": "markdown",
   "id": "8b51b499",
   "metadata": {},
   "source": [
    "## a-2) Efectúe la operación"
   ]
  },
  {
   "cell_type": "markdown",
   "id": "c30257c0",
   "metadata": {},
   "source": [
    "$$\n",
    "\\begin{align*}\n",
    "1) & \\quad A + 6B = \\\\\n",
    "2) & \\quad 4C - 2D = \\\\\n",
    "3) & \\quad A - C = \\\\\n",
    "4) & \\quad C + O_4 = \\\\\n",
    "5) & \\quad A + A = \\\\\n",
    "6) & \\quad A + E_2 = \\\\\n",
    "\\end{align*}\n",
    "$$\n"
   ]
  },
  {
   "cell_type": "markdown",
   "id": "6f9972a6",
   "metadata": {},
   "source": [
    "#### Las realizaremos con python"
   ]
  },
  {
   "cell_type": "markdown",
   "id": "6aac38b5",
   "metadata": {},
   "source": [
    "##### Primero importamos la libreria de numpy que sirve para algebra lineal  de la siguiente masnera 'import numpy as np'  y luego creamos los vectores."
   ]
  },
  {
   "cell_type": "code",
   "execution_count": 34,
   "id": "b8c0f3de",
   "metadata": {},
   "outputs": [],
   "source": [
    "import numpy as np"
   ]
  },
  {
   "cell_type": "markdown",
   "id": "22dc825d",
   "metadata": {},
   "source": [
    "### Crear vectores en NumPy\n",
    "\n",
    "Para crear vectores en NumPy, primero necesitas importar la biblioteca. Luego, puedes crear un vector asignándolo a una variable usando `np.array()`."
   ]
  },
  {
   "cell_type": "code",
   "execution_count": 35,
   "id": "78fb866f",
   "metadata": {},
   "outputs": [],
   "source": [
    "A = np.array([6, 8, 9])\n",
    "B = np.array([-5, 7, 1])\n",
    "C = np.array([-2, 3, -4, 6])\n",
    "D = np.array([-9, 4, -5, 0])"
   ]
  },
  {
   "cell_type": "code",
   "execution_count": 36,
   "id": "4af4a493",
   "metadata": {},
   "outputs": [
    {
     "name": "stdout",
     "output_type": "stream",
     "text": [
      "Resultado del ejecicio => [-24  50  15]\n"
     ]
    }
   ],
   "source": [
    "# Ejercicio 1\n",
    "print('Resultado del ejecicio =>',A+B.dot(6))"
   ]
  },
  {
   "cell_type": "code",
   "execution_count": 37,
   "id": "20511a53",
   "metadata": {},
   "outputs": [
    {
     "name": "stdout",
     "output_type": "stream",
     "text": [
      "Resultado del ejecicio 2 => [10  4 -6 24]\n"
     ]
    }
   ],
   "source": [
    "#Ejercicio 2\n",
    "print('Resultado del ejecicio 2 =>',C.dot(4) - D.dot(2))"
   ]
  },
  {
   "cell_type": "code",
   "execution_count": 38,
   "id": "48e4f9fb",
   "metadata": {},
   "outputs": [
    {
     "ename": "ValueError",
     "evalue": "operands could not be broadcast together with shapes (3,) (4,) ",
     "output_type": "error",
     "traceback": [
      "\u001b[1;31m---------------------------------------------------------------------------\u001b[0m",
      "\u001b[1;31mValueError\u001b[0m                                Traceback (most recent call last)",
      "Cell \u001b[1;32mIn[38], line 2\u001b[0m\n\u001b[0;32m      1\u001b[0m \u001b[38;5;66;03m# Ejecicio 3 \u001b[39;00m\n\u001b[1;32m----> 2\u001b[0m \u001b[38;5;28mprint\u001b[39m(A\u001b[38;5;241m-\u001b[39mC)\n",
      "\u001b[1;31mValueError\u001b[0m: operands could not be broadcast together with shapes (3,) (4,) "
     ]
    }
   ],
   "source": [
    "# Ejecicio 3 \n",
    "print(A-C)"
   ]
  },
  {
   "cell_type": "code",
   "execution_count": 39,
   "id": "31e345bc",
   "metadata": {},
   "outputs": [
    {
     "name": "stdout",
     "output_type": "stream",
     "text": [
      "Resultado => [-2  3 -4  6]\n"
     ]
    }
   ],
   "source": [
    "# Ejercicio 4\n",
    "O_4 = np.array([0,0,0,0])\n",
    "print('Resultado =>',C+O_4)"
   ]
  },
  {
   "cell_type": "code",
   "execution_count": 40,
   "id": "36837fe6",
   "metadata": {},
   "outputs": [
    {
     "name": "stdout",
     "output_type": "stream",
     "text": [
      "[12 16 18]\n"
     ]
    }
   ],
   "source": [
    "# Ejecicio 5\n",
    "print(A + A)"
   ]
  },
  {
   "cell_type": "code",
   "execution_count": 41,
   "id": "bcd5ced7",
   "metadata": {},
   "outputs": [
    {
     "name": "stdout",
     "output_type": "stream",
     "text": [
      "[6 9 9]\n"
     ]
    }
   ],
   "source": [
    "E = np.array([0,1,0])\n",
    "print(A+E)"
   ]
  },
  {
   "cell_type": "markdown",
   "id": "7dc66d98",
   "metadata": {},
   "source": [
    "### Resultados  escrito con LateX"
   ]
  },
  {
   "cell_type": "markdown",
   "id": "74b6b307",
   "metadata": {},
   "source": [
    "$$\n",
    "\\begin{align*}\n",
    "1) &\\quad A + 6B =  \\begin{bmatrix} -24, & 50, & 15 \\end{bmatrix}\\\\\n",
    "2) & \\quad 4C - 2D = \\begin{bmatrix} 10,4,-6,24 \\end{bmatrix}\\\\\n",
    "3) & \\quad A - C = No se \\quad puede  \\\\\n",
    "4) & \\quad C + O_4 = \\begin{bmatrix}-2, 3, -4,  6\\end{bmatrix}\\\\\n",
    "5) & \\quad A + A = \\begin{bmatrix}12,16,18\\end{bmatrix}\\\\\n",
    "6) & \\quad A + E_2 = \\begin{bmatrix}6,9,9\\end{bmatrix}\\\\\n",
    "\\end{align*}\n",
    "$$"
   ]
  },
  {
   "cell_type": "markdown",
   "id": "79fd531e",
   "metadata": {},
   "source": [
    "## I-b) **resultados**\n",
    "$$\n",
    "\\text{Siendo} \\quad M, N \\quad \\text{vectores} \\in \\mathbb{R}^4 \\quad \\text{y} \\quad 0 \\quad \\text{el vector nulo} \\in \\mathbb{R}^4. \\quad \\text{Complete la igualdad y escriba, si es posible, el nombre de la propiedad aplicada en la operación que se indica:}\n",
    "$$\n"
   ]
  },
  {
   "cell_type": "markdown",
   "id": "988b8977",
   "metadata": {},
   "source": [
    "$$\n",
    "\\begin{align*}\n",
    "& 6(2M + 3N) = 12M + 18N \\quad \\text{(propiedad distributiva)} \\\\\n",
    "& 5(M - 2N) = 5M - 10N \\quad \\text{(propiedad distributiva)} \\\\\n",
    "& M + (-N) = M - N \\quad \\text{(propiedad uniforme de la suma)} \\\\\n",
    "& 2M - 0 = 2M \\quad \\text{(propiedad del elemento nulo)}\n",
    "\\end{align*}\n",
    "$$\n"
   ]
  }
 ],
 "metadata": {
  "kernelspec": {
   "display_name": "Python 3 (ipykernel)",
   "language": "python",
   "name": "python3"
  },
  "language_info": {
   "codemirror_mode": {
    "name": "ipython",
    "version": 3
   },
   "file_extension": ".py",
   "mimetype": "text/x-python",
   "name": "python",
   "nbconvert_exporter": "python",
   "pygments_lexer": "ipython3",
   "version": "3.11.5"
  }
 },
 "nbformat": 4,
 "nbformat_minor": 5
}
